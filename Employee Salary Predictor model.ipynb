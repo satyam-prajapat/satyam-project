{
 "cells": [
  {
   "cell_type": "code",
   "execution_count": null,
   "id": "5c809ea6",
   "metadata": {},
   "outputs": [
    {
     "name": "stdout",
     "output_type": "stream",
     "text": [
      "Model R^2 Score: 0.85\n",
      "✅ Model saved as model.pkl\n"
     ]
    }
   ],
   "source": [
    "import pandas as pd\n",
    "from sklearn.model_selection import train_test_split\n",
    "from sklearn.linear_model import LinearRegression\n",
    "from sklearn.compose import ColumnTransformer\n",
    "from sklearn.preprocessing import OneHotEncoder\n",
    "from sklearn.pipeline import Pipeline\n",
    "import pickle\n",
    "\n",
    "df=pd.read_csv(\"Salary Data.csv\")\n",
    "df=df.dropna()\n",
    "\n",
    "df[\"Years of Experience\"] = pd.to_numeric(df[\"Years of Experience\"], errors=\"coerce\")\n",
    "df=df.dropna()  \n",
    "\n",
    "# Features and target\n",
    "X=df.drop(\"Salary\", axis=1)\n",
    "y=df[\"Salary\"]\n",
    "\n",
    "# Preprocess categorical features\n",
    "categorical_features=[\"Gender\", \"Education Level\", \"Job Title\"]\n",
    "categorical_transformer=OneHotEncoder(handle_unknown='ignore')\n",
    "\n",
    "preprocessor=ColumnTransformer(\n",
    "    transformers=[\n",
    "        (\"cat\", categorical_transformer, categorical_features)\n",
    "    ], remainder=\"passthrough\")\n",
    "\n",
    "# Build pipeline\n",
    "model=Pipeline(steps=[\n",
    "    (\"preprocessor\", preprocessor),\n",
    "    (\"regressor\", LinearRegression())\n",
    "])\n",
    "\n",
    "# Train-test split\n",
    "X_train, X_test, y_train, y_test = train_test_split(\n",
    "    X, y, test_size=0.2, random_state=42)\n",
    "\n",
    "# Train the model\n",
    "model.fit(X_train, y_train)\n",
    "\n",
    "# Evaluate\n",
    "score=model.score(X_test, y_test)\n",
    "print(f\"Model R^2 Score: {score:.2f}\")\n",
    "\n",
    "# Save the model\n",
    "with open(\"model.pkl\", \"wb\") as file:\n",
    "    pickle.dump(model, file)\n",
    "\n",
    "print(\"✅ Model saved as model.pkl\")\n"
   ]
  }
 ],
 "metadata": {
  "kernelspec": {
   "display_name": "Python 3",
   "language": "python",
   "name": "python3"
  },
  "language_info": {
   "codemirror_mode": {
    "name": "ipython",
    "version": 3
   },
   "file_extension": ".py",
   "mimetype": "text/x-python",
   "name": "python",
   "nbconvert_exporter": "python",
   "pygments_lexer": "ipython3",
   "version": "3.11.9"
  }
 },
 "nbformat": 4,
 "nbformat_minor": 5
}
